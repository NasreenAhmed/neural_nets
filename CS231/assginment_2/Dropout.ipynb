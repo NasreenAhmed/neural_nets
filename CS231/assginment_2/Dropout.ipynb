{
  "nbformat": 4,
  "nbformat_minor": 0,
  "metadata": {
    "colab": {
      "name": "Dropout.ipynb",
      "provenance": []
    },
    "language_info": {
      "name": "python"
    },
    "kernelspec": {
      "name": "python3",
      "display_name": "Python 3"
    }
  },
  "cells": [
    {
      "cell_type": "code",
      "metadata": {
        "colab": {
          "base_uri": "https://localhost:8080/"
        },
        "id": "1KOplgxK4Vph",
        "outputId": "75abc5a9-ac78-4a5c-db5b-899820cac65c"
      },
      "source": [
        "# This mounts your Google Drive to the Colab VM.\n",
        "from google.colab import drive\n",
        "drive.mount('/content/drive')\n",
        "\n",
        "# TODO: Enter the foldername in your Drive where you have saved the unzipped\n",
        "# assignment folder, e.g. 'cs231n/assignments/assignment1/'\n",
        "FOLDERNAME = \"cs231n/assignments/assignment2/\"\n",
        "assert FOLDERNAME is not None, \"[!] Enter the foldername.\"\n",
        "\n",
        "# Now that we've mounted your Drive, this ensures that\n",
        "# the Python interpreter of the Colab VM can load\n",
        "# python files from within it.\n",
        "import sys\n",
        "sys.path.append('/content/drive/My Drive/{}'.format(FOLDERNAME))\n",
        "\n",
        "# This downloads the CIFAR-10 dataset to your Drive\n",
        "# if it doesn't already exist.\n",
        "%cd /content/drive/My\\ Drive/$FOLDERNAME/cs231n/datasets/\n",
        "!bash get_datasets.sh\n",
        "%cd /content/drive/My\\ Drive/$FOLDERNAME"
      ],
      "execution_count": 2,
      "outputs": [
        {
          "output_type": "stream",
          "name": "stdout",
          "text": [
            "Mounted at /content/drive\n",
            "/content/drive/My Drive/cs231n/assignments/assignment2/cs231n/datasets\n",
            "/content/drive/My Drive/cs231n/assignments/assignment2\n"
          ]
        }
      ]
    },
    {
      "cell_type": "markdown",
      "metadata": {
        "tags": [
          "pdf-title"
        ],
        "id": "kZowTvTy4Vpq"
      },
      "source": [
        "# Dropout\n",
        "Dropout [1] is a technique for regularizing neural networks by randomly setting some output activations to zero during the forward pass. In this exercise, you will implement a dropout layer and modify your fully connected network to optionally use dropout.\n",
        "\n",
        "[1] [Geoffrey E. Hinton et al, \"Improving neural networks by preventing co-adaptation of feature detectors\", arXiv 2012](https://arxiv.org/abs/1207.0580)"
      ]
    },
    {
      "cell_type": "code",
      "metadata": {
        "tags": [
          "pdf-ignore"
        ],
        "colab": {
          "base_uri": "https://localhost:8080/"
        },
        "id": "VJYgsQk-4Vpw",
        "outputId": "b9c937e6-32b3-4759-8b4b-71af401b43fa"
      },
      "source": [
        "# Setup cell.\n",
        "import time\n",
        "import numpy as np\n",
        "import matplotlib.pyplot as plt\n",
        "from cs231n.classifiers.fc_net import *\n",
        "from cs231n.data_utils import get_CIFAR10_data\n",
        "from cs231n.gradient_check import eval_numerical_gradient, eval_numerical_gradient_array\n",
        "from cs231n.solver import Solver\n",
        "\n",
        "%matplotlib inline\n",
        "plt.rcParams[\"figure.figsize\"] = (10.0, 8.0)  # Set default size of plots.\n",
        "plt.rcParams[\"image.interpolation\"] = \"nearest\"\n",
        "plt.rcParams[\"image.cmap\"] = \"gray\"\n",
        "\n",
        "%load_ext autoreload\n",
        "%autoreload 2\n",
        "\n",
        "def rel_error(x, y):\n",
        "    \"\"\"Returns relative error.\"\"\"\n",
        "    return np.max(np.abs(x - y) / (np.maximum(1e-8, np.abs(x) + np.abs(y))))"
      ],
      "execution_count": 3,
      "outputs": [
        {
          "output_type": "stream",
          "name": "stdout",
          "text": [
            "=========== You can safely ignore the message below if you are NOT working on ConvolutionalNetworks.ipynb ===========\n",
            "\tYou will need to compile a Cython extension for a portion of this assignment.\n",
            "\tThe instructions to do this will be given in a section of the notebook below.\n"
          ]
        }
      ]
    },
    {
      "cell_type": "code",
      "metadata": {
        "tags": [
          "pdf-ignore"
        ],
        "colab": {
          "base_uri": "https://localhost:8080/"
        },
        "id": "IUwBC85E4Vpx",
        "outputId": "de8ae623-5464-440c-e5cb-1d54ca02a566"
      },
      "source": [
        "# Load the (preprocessed) CIFAR-10 data.\n",
        "data = get_CIFAR10_data()\n",
        "for k, v in list(data.items()):\n",
        "    print(f\"{k}: {v.shape}\")"
      ],
      "execution_count": 4,
      "outputs": [
        {
          "output_type": "stream",
          "name": "stdout",
          "text": [
            "X_train: (49000, 3, 32, 32)\n",
            "y_train: (49000,)\n",
            "X_val: (1000, 3, 32, 32)\n",
            "y_val: (1000,)\n",
            "X_test: (1000, 3, 32, 32)\n",
            "y_test: (1000,)\n"
          ]
        }
      ]
    },
    {
      "cell_type": "markdown",
      "metadata": {
        "id": "eG6cK5_F4Vpx"
      },
      "source": [
        "# Dropout: Forward Pass\n",
        "In the file `cs231n/layers.py`, implement the forward pass for dropout. Since dropout behaves differently during training and testing, make sure to implement the operation for both modes.\n",
        "\n",
        "Once you have done so, run the cell below to test your implementation."
      ]
    },
    {
      "cell_type": "code",
      "metadata": {
        "colab": {
          "base_uri": "https://localhost:8080/"
        },
        "id": "8XY9Tpxn4Vpy",
        "outputId": "db13fcf5-5322-48b4-9627-741e40e071ff"
      },
      "source": [
        "np.random.seed(231)\n",
        "x = np.random.randn(500, 500) + 10\n",
        "\n",
        "for p in [0.25, 0.4, 0.7]:\n",
        "    out, _ = dropout_forward(x, {'mode': 'train', 'p': p})\n",
        "    out_test, _ = dropout_forward(x, {'mode': 'test', 'p': p})\n",
        "\n",
        "    print('Running tests with p = ', p)\n",
        "    print('Mean of input: ', x.mean())\n",
        "    print('Mean of train-time output: ', out.mean())\n",
        "    print('Mean of test-time output: ', out_test.mean())\n",
        "    print('Fraction of train-time output set to zero: ', (out == 0).mean())\n",
        "    print('Fraction of test-time output set to zero: ', (out_test == 0).mean())\n",
        "    print()"
      ],
      "execution_count": 5,
      "outputs": [
        {
          "output_type": "stream",
          "name": "stdout",
          "text": [
            "Running tests with p =  0.25\n",
            "Mean of input:  10.000207878477502\n",
            "Mean of train-time output:  10.014059116977283\n",
            "Mean of test-time output:  10.000207878477502\n",
            "Fraction of train-time output set to zero:  0.749784\n",
            "Fraction of test-time output set to zero:  0.0\n",
            "\n",
            "Running tests with p =  0.4\n",
            "Mean of input:  10.000207878477502\n",
            "Mean of train-time output:  9.977917658761159\n",
            "Mean of test-time output:  10.000207878477502\n",
            "Fraction of train-time output set to zero:  0.600796\n",
            "Fraction of test-time output set to zero:  0.0\n",
            "\n",
            "Running tests with p =  0.7\n",
            "Mean of input:  10.000207878477502\n",
            "Mean of train-time output:  9.987811912159426\n",
            "Mean of test-time output:  10.000207878477502\n",
            "Fraction of train-time output set to zero:  0.30074\n",
            "Fraction of test-time output set to zero:  0.0\n",
            "\n"
          ]
        }
      ]
    },
    {
      "cell_type": "markdown",
      "metadata": {
        "id": "y1FFynru4Vp0"
      },
      "source": [
        "# Dropout: Backward Pass\n",
        "In the file `cs231n/layers.py`, implement the backward pass for dropout. After doing so, run the following cell to numerically gradient-check your implementation."
      ]
    },
    {
      "cell_type": "code",
      "metadata": {
        "colab": {
          "base_uri": "https://localhost:8080/"
        },
        "id": "fEJh1OJn4Vp1",
        "outputId": "a57ded5a-dca7-4a28-832f-97e6f10f88a0"
      },
      "source": [
        "np.random.seed(231)\n",
        "x = np.random.randn(10, 10) + 10\n",
        "dout = np.random.randn(*x.shape)\n",
        "\n",
        "dropout_param = {'mode': 'train', 'p': 0.2, 'seed': 123}\n",
        "out, cache = dropout_forward(x, dropout_param)\n",
        "dx = dropout_backward(dout, cache)\n",
        "dx_num = eval_numerical_gradient_array(lambda xx: dropout_forward(xx, dropout_param)[0], x, dout)\n",
        "\n",
        "# Error should be around e-10 or less.\n",
        "print('dx relative error: ', rel_error(dx, dx_num))"
      ],
      "execution_count": 6,
      "outputs": [
        {
          "output_type": "stream",
          "name": "stdout",
          "text": [
            "dx relative error:  5.44560814873387e-11\n"
          ]
        }
      ]
    },
    {
      "cell_type": "markdown",
      "metadata": {
        "tags": [
          "pdf-inline"
        ],
        "id": "uD6Er5_J4Vp2"
      },
      "source": [
        "## Inline Question 1:\n",
        "What happens if we do not divide the values being passed through inverse dropout by `p` in the dropout layer? Why does that happen?\n",
        "\n",
        "## Answer:\n",
        "[FILL THIS IN]\n"
      ]
    },
    {
      "cell_type": "markdown",
      "metadata": {
        "id": "JO8RrsA24Vp3"
      },
      "source": [
        "# Fully Connected Networks with Dropout\n",
        "In the file `cs231n/classifiers/fc_net.py`, modify your implementation to use dropout. Specifically, if the constructor of the network receives a value that is not 1 for the `dropout_keep_ratio` parameter, then the net should add a dropout layer immediately after every ReLU nonlinearity. After doing so, run the following to numerically gradient-check your implementation."
      ]
    },
    {
      "cell_type": "code",
      "metadata": {
        "colab": {
          "base_uri": "https://localhost:8080/"
        },
        "id": "pqfM6O9E4Vp4",
        "outputId": "cd30f29c-54f1-4753-bdd0-b02fb26824a6"
      },
      "source": [
        "np.random.seed(231)\n",
        "N, D, H1, H2, C = 2, 15, 20, 30, 10\n",
        "X = np.random.randn(N, D)\n",
        "y = np.random.randint(C, size=(N,))\n",
        "\n",
        "for dropout_keep_ratio in [1, 0.75, 0.5]:\n",
        "    print('Running check with dropout = ', dropout_keep_ratio)\n",
        "    model = FullyConnectedNet(\n",
        "        [H1, H2],\n",
        "        input_dim=D,\n",
        "        num_classes=C,\n",
        "        weight_scale=5e-2,\n",
        "        dtype=np.float64,\n",
        "        dropout_keep_ratio=dropout_keep_ratio,\n",
        "        seed=123\n",
        "    )\n",
        "\n",
        "    loss, grads = model.loss(X, y)\n",
        "    print('Initial loss: ', loss)\n",
        "\n",
        "    # Relative errors should be around e-6 or less.\n",
        "    # Note that it's fine if for dropout_keep_ratio=1 you have W2 error be on the order of e-5.\n",
        "    for name in sorted(grads):\n",
        "        f = lambda _: model.loss(X, y)[0]\n",
        "        grad_num = eval_numerical_gradient(f, model.params[name], verbose=False, h=1e-5)\n",
        "        print('%s relative error: %.2e' % (name, rel_error(grad_num, grads[name])))\n",
        "    print()"
      ],
      "execution_count": 9,
      "outputs": [
        {
          "output_type": "stream",
          "name": "stdout",
          "text": [
            "Running check with dropout =  1\n",
            "Initial loss:  2.300479089768492\n",
            "W1 relative error: 1.03e-07\n",
            "W2 relative error: 2.21e-05\n",
            "W3 relative error: 4.56e-07\n",
            "b1 relative error: 4.66e-09\n",
            "b2 relative error: 2.09e-09\n",
            "b3 relative error: 1.69e-10\n",
            "\n",
            "Running check with dropout =  0.75\n",
            "Initial loss:  2.3016482157750753\n",
            "W1 relative error: 3.44e-07\n",
            "W2 relative error: 5.01e-06\n",
            "W3 relative error: 1.40e-07\n",
            "b1 relative error: 1.48e-08\n",
            "b2 relative error: 9.48e-10\n",
            "b3 relative error: 1.28e-10\n",
            "\n",
            "Running check with dropout =  0.5\n",
            "Initial loss:  2.294963257976082\n",
            "W1 relative error: 1.20e-07\n",
            "W2 relative error: 5.54e-07\n",
            "W3 relative error: 3.75e-07\n",
            "b1 relative error: 3.35e-09\n",
            "b2 relative error: 4.40e-09\n",
            "b3 relative error: 1.44e-10\n",
            "\n"
          ]
        }
      ]
    },
    {
      "cell_type": "markdown",
      "metadata": {
        "id": "NiVA12aV4Vp4"
      },
      "source": [
        "# Regularization Experiment\n",
        "As an experiment, we will train a pair of two-layer networks on 500 training examples: one will use no dropout, and one will use a keep probability of 0.25. We will then visualize the training and validation accuracies of the two networks over time."
      ]
    },
    {
      "cell_type": "code",
      "metadata": {
        "scrolled": false,
        "colab": {
          "base_uri": "https://localhost:8080/"
        },
        "id": "GtQdDayl4Vp5",
        "outputId": "b9707647-71ee-4084-96ed-b74b73a954bd"
      },
      "source": [
        "# Train two identical nets, one with dropout and one without.\n",
        "np.random.seed(231)\n",
        "num_train = 500\n",
        "small_data = {\n",
        "    'X_train': data['X_train'][:num_train],\n",
        "    'y_train': data['y_train'][:num_train],\n",
        "    'X_val': data['X_val'],\n",
        "    'y_val': data['y_val'],\n",
        "}\n",
        "\n",
        "solvers = {}\n",
        "dropout_choices = [1, 0.25]\n",
        "for dropout_keep_ratio in dropout_choices:\n",
        "    model = FullyConnectedNet(\n",
        "        [500],\n",
        "        dropout_keep_ratio=dropout_keep_ratio\n",
        "    )\n",
        "    print(dropout_keep_ratio)\n",
        "\n",
        "    solver = Solver(\n",
        "        model,\n",
        "        small_data,\n",
        "        num_epochs=25,\n",
        "        batch_size=100,\n",
        "        update_rule='adam',\n",
        "        optim_config={'learning_rate': 5e-4,},\n",
        "        verbose=True,\n",
        "        print_every=100\n",
        "    )\n",
        "    solver.train()\n",
        "    solvers[dropout_keep_ratio] = solver\n",
        "    print()"
      ],
      "execution_count": 10,
      "outputs": [
        {
          "output_type": "stream",
          "name": "stdout",
          "text": [
            "1\n",
            "(Iteration 1 / 125) loss: 7.856643\n",
            "(Epoch 0 / 25) train acc: 0.260000; val_acc: 0.184000\n",
            "(Epoch 1 / 25) train acc: 0.416000; val_acc: 0.258000\n",
            "(Epoch 2 / 25) train acc: 0.482000; val_acc: 0.276000\n",
            "(Epoch 3 / 25) train acc: 0.532000; val_acc: 0.277000\n",
            "(Epoch 4 / 25) train acc: 0.600000; val_acc: 0.271000\n",
            "(Epoch 5 / 25) train acc: 0.708000; val_acc: 0.299000\n",
            "(Epoch 6 / 25) train acc: 0.722000; val_acc: 0.282000\n",
            "(Epoch 7 / 25) train acc: 0.832000; val_acc: 0.255000\n",
            "(Epoch 8 / 25) train acc: 0.880000; val_acc: 0.268000\n",
            "(Epoch 9 / 25) train acc: 0.902000; val_acc: 0.277000\n",
            "(Epoch 10 / 25) train acc: 0.898000; val_acc: 0.261000\n",
            "(Epoch 11 / 25) train acc: 0.924000; val_acc: 0.263000\n",
            "(Epoch 12 / 25) train acc: 0.960000; val_acc: 0.300000\n",
            "(Epoch 13 / 25) train acc: 0.972000; val_acc: 0.314000\n",
            "(Epoch 14 / 25) train acc: 0.972000; val_acc: 0.310000\n",
            "(Epoch 15 / 25) train acc: 0.974000; val_acc: 0.315000\n",
            "(Epoch 16 / 25) train acc: 0.994000; val_acc: 0.304000\n",
            "(Epoch 17 / 25) train acc: 0.972000; val_acc: 0.308000\n",
            "(Epoch 18 / 25) train acc: 0.994000; val_acc: 0.311000\n",
            "(Epoch 19 / 25) train acc: 0.992000; val_acc: 0.313000\n",
            "(Epoch 20 / 25) train acc: 0.994000; val_acc: 0.290000\n",
            "(Iteration 101 / 125) loss: 0.000236\n",
            "(Epoch 21 / 25) train acc: 0.986000; val_acc: 0.291000\n",
            "(Epoch 22 / 25) train acc: 0.996000; val_acc: 0.294000\n",
            "(Epoch 23 / 25) train acc: 0.996000; val_acc: 0.302000\n",
            "(Epoch 24 / 25) train acc: 1.000000; val_acc: 0.301000\n",
            "(Epoch 25 / 25) train acc: 1.000000; val_acc: 0.304000\n",
            "\n",
            "0.25\n",
            "(Iteration 1 / 125) loss: 10.430469\n",
            "(Epoch 0 / 25) train acc: 0.264000; val_acc: 0.174000\n",
            "(Epoch 1 / 25) train acc: 0.388000; val_acc: 0.257000\n",
            "(Epoch 2 / 25) train acc: 0.500000; val_acc: 0.238000\n",
            "(Epoch 3 / 25) train acc: 0.614000; val_acc: 0.248000\n",
            "(Epoch 4 / 25) train acc: 0.704000; val_acc: 0.281000\n",
            "(Epoch 5 / 25) train acc: 0.754000; val_acc: 0.251000\n",
            "(Epoch 6 / 25) train acc: 0.820000; val_acc: 0.281000\n",
            "(Epoch 7 / 25) train acc: 0.872000; val_acc: 0.266000\n",
            "(Epoch 8 / 25) train acc: 0.896000; val_acc: 0.303000\n",
            "(Epoch 9 / 25) train acc: 0.914000; val_acc: 0.315000\n",
            "(Epoch 10 / 25) train acc: 0.912000; val_acc: 0.291000\n",
            "(Epoch 11 / 25) train acc: 0.920000; val_acc: 0.299000\n",
            "(Epoch 12 / 25) train acc: 0.930000; val_acc: 0.305000\n",
            "(Epoch 13 / 25) train acc: 0.926000; val_acc: 0.294000\n",
            "(Epoch 14 / 25) train acc: 0.954000; val_acc: 0.287000\n",
            "(Epoch 15 / 25) train acc: 0.966000; val_acc: 0.287000\n",
            "(Epoch 16 / 25) train acc: 0.968000; val_acc: 0.280000\n",
            "(Epoch 17 / 25) train acc: 0.972000; val_acc: 0.273000\n",
            "(Epoch 18 / 25) train acc: 0.992000; val_acc: 0.286000\n",
            "(Epoch 19 / 25) train acc: 0.992000; val_acc: 0.285000\n",
            "(Epoch 20 / 25) train acc: 0.992000; val_acc: 0.279000\n",
            "(Iteration 101 / 125) loss: 0.018097\n",
            "(Epoch 21 / 25) train acc: 0.972000; val_acc: 0.263000\n",
            "(Epoch 22 / 25) train acc: 0.988000; val_acc: 0.290000\n",
            "(Epoch 23 / 25) train acc: 0.984000; val_acc: 0.294000\n",
            "(Epoch 24 / 25) train acc: 0.944000; val_acc: 0.291000\n",
            "(Epoch 25 / 25) train acc: 0.966000; val_acc: 0.298000\n",
            "\n"
          ]
        }
      ]
    },
    {
      "cell_type": "code",
      "metadata": {
        "colab": {
          "base_uri": "https://localhost:8080/",
          "height": 527
        },
        "id": "FAVxDspD4Vp6",
        "outputId": "65b7ecce-37df-4d38-f23c-c4efda3742f5"
      },
      "source": [
        "# Plot train and validation accuracies of the two models.\n",
        "train_accs = []\n",
        "val_accs = []\n",
        "for dropout_keep_ratio in dropout_choices:\n",
        "    solver = solvers[dropout_keep_ratio]\n",
        "    train_accs.append(solver.train_acc_history[-1])\n",
        "    val_accs.append(solver.val_acc_history[-1])\n",
        "\n",
        "plt.subplot(3, 1, 1)\n",
        "for dropout_keep_ratio in dropout_choices:\n",
        "    plt.plot(\n",
        "        solvers[dropout_keep_ratio].train_acc_history, 'o', label='%.2f dropout_keep_ratio' % dropout_keep_ratio)\n",
        "plt.title('Train accuracy')\n",
        "plt.xlabel('Epoch')\n",
        "plt.ylabel('Accuracy')\n",
        "plt.legend(ncol=2, loc='lower right')\n",
        "  \n",
        "plt.subplot(3, 1, 2)\n",
        "for dropout_keep_ratio in dropout_choices:\n",
        "    plt.plot(\n",
        "        solvers[dropout_keep_ratio].val_acc_history, 'o', label='%.2f dropout_keep_ratio' % dropout_keep_ratio)\n",
        "plt.title('Val accuracy')\n",
        "plt.xlabel('Epoch')\n",
        "plt.ylabel('Accuracy')\n",
        "plt.legend(ncol=2, loc='lower right')\n",
        "\n",
        "plt.gcf().set_size_inches(15, 15)\n",
        "plt.show()"
      ],
      "execution_count": 11,
      "outputs": [
        {
          "output_type": "display_data",
          "data": {
            "image/png": "[encoded data removed]",
            "text/plain": [
              "<Figure size 1080x1080 with 2 Axes>"
            ]
          },
          "metadata": {
            "needs_background": "light"
          }
        }
      ]
    },
    {
      "cell_type": "markdown",
      "metadata": {
        "tags": [
          "pdf-inline"
        ],
        "id": "e3iM3fQl4Vp6"
      },
      "source": [
        "## Inline Question 2:\n",
        "Compare the validation and training accuracies with and without dropout -- what do your results suggest about dropout as a regularizer?\n",
        "\n",
        "## Answer:\n",
        "[FILL THIS IN]\n"
      ]
    },
    {
      "cell_type": "markdown",
      "metadata": {
        "tags": [
          "pdf-inline"
        ],
        "id": "PoxB3z8Y4Vp7"
      },
      "source": [
        "## Inline Question 3:\n",
        "Suppose we are training a deep fully connected network for image classification, with dropout after hidden layers (parameterized by keep probability `p`). If we are concerned about overfitting, how should we modify `p` (if at all) when we decide to decrease the size of the hidden layers (that is, the number of nodes in each layer)?\n",
        "\n",
        "## Answer:\n",
        "[FILL THIS IN]\n"
      ]
    },
    {
      "cell_type": "code",
      "metadata": {
        "id": "CCrdd3W34Vp7"
      },
      "source": [
        ""
      ],
      "execution_count": null,
      "outputs": []
    }
  ]
}